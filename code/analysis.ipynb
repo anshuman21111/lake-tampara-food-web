{
 "cells": [
  {
   "cell_type": "markdown",
   "id": "b68a8bf0",
   "metadata": {},
   "source": [
    "## Setting up"
   ]
  },
  {
   "cell_type": "code",
   "execution_count": 1,
   "id": "c4ff5393",
   "metadata": {},
   "outputs": [],
   "source": [
    "#Loading packages\n",
    "\n",
    "using Pkg\n",
    "#Pkg.add(\"EcologicalNetworks\")\n",
    "\n",
    "#import Pkg; Pkg.add(\"CSV\"); Pkg.add(\"DataFrames\")\n",
    "using CSV\n",
    "using DataFrames\n",
    "using EcologicalNetworks\n",
    "using EcologicalNetworksPlots\n",
    "\n"
   ]
  },
  {
   "cell_type": "code",
   "execution_count": 29,
   "id": "7860ee56",
   "metadata": {},
   "outputs": [
    {
     "data": {
      "text/plain": [
       "openwebs (generic function with 1 method)"
      ]
     },
     "execution_count": 29,
     "metadata": {},
     "output_type": "execute_result"
    }
   ],
   "source": [
    "# Setting up functions\n",
    "\n",
    "#This function opens and reads all the files\n",
    "function openwebs(webnames)\n",
    "    dfs = []\n",
    "\n",
    "    for web in webnames\n",
    "        filename = \"../data/\" * web * \"_adjacency_matrix.csv\"\n",
    "\n",
    "        df = CSV.read(filename,DataFrame)\n",
    "\n",
    "        # Append the df to the list\n",
    "        push!(dfs, df)\n",
    "\n",
    "    end\n",
    "\n",
    "    return dfs\n",
    "\n",
    "end"
   ]
  },
  {
   "cell_type": "code",
   "execution_count": 3,
   "id": "5156aa92",
   "metadata": {},
   "outputs": [
    {
     "data": {
      "text/plain": [
       "getspecies (generic function with 1 method)"
      ]
     },
     "execution_count": 3,
     "metadata": {},
     "output_type": "execute_result"
    }
   ],
   "source": [
    "# This extracts the species names from the files\n",
    "function getspecies(webs)\n",
    "    Ss = []\n",
    "\n",
    "    for web in webs\n",
    "        # Get the first column which has the names of all the species\n",
    "        S = web.Column1\n",
    "\n",
    "        # Append S to the list\n",
    "        push!(Ss, S)\n",
    "\n",
    "    end\n",
    "\n",
    "    return Ss\n",
    "\n",
    "end"
   ]
  },
  {
   "cell_type": "code",
   "execution_count": 30,
   "id": "efbe76bd",
   "metadata": {},
   "outputs": [
    {
     "data": {
      "text/plain": [
       "convertWebsToBoolArray (generic function with 1 method)"
      ]
     },
     "execution_count": 30,
     "metadata": {},
     "output_type": "execute_result"
    }
   ],
   "source": [
    "# Convert webs to boolean array\n",
    "function convertWebsToBoolArray(webs)\n",
    "    As = []\n",
    "\n",
    "    for web in webs\n",
    "        ## Remove the column with the names\n",
    "        A = Array(web[:,2:end])\n",
    "        A = transpose(A)\n",
    "\n",
    "        # Convert to boolean\n",
    "        A = isone.(A)\n",
    "\n",
    "        # Append A to the list\n",
    "        push!(As, A)\n",
    "\n",
    "    end\n",
    "\n",
    "    return As\n",
    "\n",
    "end"
   ]
  },
  {
   "cell_type": "code",
   "execution_count": 5,
   "id": "c0ea046c",
   "metadata": {},
   "outputs": [
    {
     "data": {
      "text/plain": [
       "create_dict_array (generic function with 1 method)"
      ]
     },
     "execution_count": 5,
     "metadata": {},
     "output_type": "execute_result"
    }
   ],
   "source": [
    "# Convert the output into an array with species and the results for each web\n",
    "function create_dict_array(dicts, webnames, Ss)\n",
    "    species = collect(keys(dicts[1]))\n",
    "\n",
    "    for d in dicts[2:end]\n",
    "        species = union(species, keys(d))\n",
    "    end\n",
    "    \n",
    "    #data = Array[length(species) + 1, length(dicts)]\n",
    "    data = Array{Any}(undef, length(species)+1, length(dicts) + 1)\n",
    "\n",
    "    data[1, 1] = \"species\"\n",
    "\n",
    "    for i in 2:length(species)+1\n",
    "        data[i, 1] = species[i-1]\n",
    "    end\n",
    "\n",
    "    for j in 1:length(dicts)\n",
    "        for i in 2:length(species)+1\n",
    "            data[i, j+1] = get(dicts[j], species[i-1], \"\")\n",
    "        end\n",
    "    end\n",
    "    \n",
    "    #df = DataFrame(data, :auto)\n",
    "    data[1,2:4] = webnames\n",
    "\n",
    "    return data\n",
    "end"
   ]
  },
  {
   "cell_type": "code",
   "execution_count": null,
   "id": "1bb1ad82",
   "metadata": {},
   "outputs": [],
   "source": []
  },
  {
   "cell_type": "code",
   "execution_count": null,
   "id": "235fbeb6",
   "metadata": {},
   "outputs": [],
   "source": []
  },
  {
   "cell_type": "code",
   "execution_count": 6,
   "id": "0bb231e7",
   "metadata": {},
   "outputs": [
    {
     "data": {
      "text/plain": [
       "get_modularity (generic function with 2 methods)"
      ]
     },
     "execution_count": 6,
     "metadata": {},
     "output_type": "execute_result"
    }
   ],
   "source": [
    "function get_modularity(N, output = \"all\")\n",
    "    n = repeat(3:12, outer=20)\n",
    "    m = Array{Dict}(undef, length(n))\n",
    "\n",
    "    for i in eachindex(n)\n",
    "      # Each run returns the network and its modules\n",
    "      # We discard the network, and assign the modules to our object\n",
    "      _, m[i] = n_random_modules(n[i])(Ns[1]) |> x -> brim(x...)\n",
    "    end\n",
    "\n",
    "    q = map(x -> Q(Ns[1],x), m);\n",
    "    c = (m .|> values |> collect) .|> unique .|> length\n",
    "\n",
    "\n",
    "    #using Plots\n",
    "    #using Plots.PlotMeasures\n",
    "\n",
    "    #p1 = scatter(c, q, c=:grey, msw=0.0, leg=false, frame=:origin, grid=false, margin=10mm)\n",
    "    #xaxis!(p1, \"Number of modules\")\n",
    "    #yaxis!(p1, \"Modularity\", (0, 0.1))\n",
    "    \n",
    "    optimal = rand(findall(q.== maximum(q)));\n",
    "    best_m = m[optimal]\n",
    "    modularity = maximum(q)\n",
    "    number_modules = c[optimal]\n",
    "        \n",
    "    \n",
    "    if output == \"all\"\n",
    "        return number_modules, modularity, best_m\n",
    "    end\n",
    "    if output == \"number_modules\"\n",
    "        return number_modules\n",
    "    end\n",
    "    if output == \"modularity\"\n",
    "        return modularity\n",
    "    end\n",
    "    if output == \"modules\"\n",
    "        return best_m\n",
    "    end\n",
    "end"
   ]
  },
  {
   "cell_type": "code",
   "execution_count": null,
   "id": "8a120e32",
   "metadata": {},
   "outputs": [],
   "source": []
  },
  {
   "cell_type": "code",
   "execution_count": 7,
   "id": "45cf2291",
   "metadata": {},
   "outputs": [
    {
     "data": {
      "text/plain": [
       "plot_modules (generic function with 1 method)"
      ]
     },
     "execution_count": 7,
     "metadata": {},
     "output_type": "execute_result"
    }
   ],
   "source": [
    "function plot_modules(modules_species)\n",
    "\n",
    "    I = initial(RandomInitialLayout, Ns[1])\n",
    "    for step in 1:4000\n",
    "      position!(SpringElectric(1.2; gravity=0.1), I, Ns[1])\n",
    "    end\n",
    "    p2 = plot(I, Ns[1], aspectratio=1)\n",
    "    scatter!(p2, I, Ns[1], bipartite=true, nodefill=best_m, markercolor=:isolum)\n",
    "\n",
    "end"
   ]
  },
  {
   "cell_type": "markdown",
   "id": "1d7089cf",
   "metadata": {},
   "source": [
    "## Our data"
   ]
  },
  {
   "cell_type": "code",
   "execution_count": 28,
   "id": "a96574ef",
   "metadata": {},
   "outputs": [
    {
     "ename": "LoadError",
     "evalue": "ArgumentError: `transpose` not defined for `AbstractDataFrame`s. Try `permutedims` instead",
     "output_type": "error",
     "traceback": [
      "ArgumentError: `transpose` not defined for `AbstractDataFrame`s. Try `permutedims` instead",
      "",
      "Stacktrace:",
      " [1] transpose(::DataFrame; kwargs::Base.Pairs{Symbol, Union{}, Tuple{}, NamedTuple{(), Tuple{}}})",
      "   @ DataFrames ~/.julia/packages/DataFrames/LteEl/src/abstractdataframe/reshape.jl:706",
      " [2] transpose(::DataFrame)",
      "   @ DataFrames ~/.julia/packages/DataFrames/LteEl/src/abstractdataframe/reshape.jl:706",
      " [3] openwebs(webnames::Vector{String})",
      "   @ Main ./In[27]:11",
      " [4] top-level scope",
      "   @ In[28]:2"
     ]
    }
   ],
   "source": [
    "webnames = [\"Premonsoon\",\"Postmonsoon\",\"Monsoon\"]\n",
    "webs = openwebs(webnames)\n"
   ]
  },
  {
   "cell_type": "code",
   "execution_count": 13,
   "id": "6eccb4ca",
   "metadata": {},
   "outputs": [
    {
     "data": {
      "text/plain": [
       "3-element Vector{Any}:\n",
       " String31[\"Acridotheres ginginianus\", \"Alcedo atthis\", \"Alona pulchella\", \"Amaurornis phoenicurus\", \"Anas poecilorhyncha\", \"Anastomus oscitans\", \"Anisops campbelli\", \"Aplocheilus panchax\", \"Aquarius adelaides\", \"Arcella discoides\"  …  \"Rasbora daniconius\", \"Scapholeberis kingi\", \"Spilornis cheela\", \"Tachybaptus ruficollis\", \"Trichogaster fasciata\", \"Trichogaster lalius\", \"Uperodon systoma\", \"Vanellus indicus\", \"Varanus bengalensis\", \"Xenentodon cancila\"]\n",
       " String31[\"Acridotheres ginginianus\", \"Alcedo atthis\", \"Alona pulchella\", \"Amaurornis phoenicurus\", \"Anas acuta\", \"Anas poecilorhyncha\", \"Anastomus oscitans\", \"Anhinga melanogaster\", \"Anisops campbelli\", \"Aplocheilus panchax\"  …  \"Tringa glareola\", \"Tringa nebularia\", \"Tringa ochropus\", \"Tringa stagnatilis\", \"Tringa tetanus\", \"Vanellus indicus\", \"Vanellus malabaricus\", \"Varanus bengalensis\", \"Xenentodon cancila\", \"Xenus cinereus\"]\n",
       " String31[\"Acridotheres ginginianus\", \"Alcedo atthis\", \"Alona pulchella\", \"Amaurornis phoenicurus\", \"Anastomus oscitans\", \"Anisops campbelli\", \"Aplocheilus panchax\", \"Aquarius adelaides\", \"Arcella discoides\", \"Ardea alba\"  …  \"Sphaerotheca rolandae\", \"Spilornis cheela\", \"Tachybaptus ruficollis\", \"Tadploes\", \"Trichogaster fasciata\", \"Trichogaster lalius\", \"Uperodon systoma\", \"Vanellus indicus\", \"Varanus bengalensis\", \"Xenentodon cancila\"]"
      ]
     },
     "execution_count": 13,
     "metadata": {},
     "output_type": "execute_result"
    }
   ],
   "source": [
    "# Get lists of species\n",
    "Ss = getspecies(webs)"
   ]
  },
  {
   "cell_type": "code",
   "execution_count": 31,
   "id": "fbb5b90e",
   "metadata": {},
   "outputs": [
    {
     "data": {
      "text/plain": [
       "3-element Vector{UnipartiteNetwork{Bool, String31}}:\n",
       " 109×109 (String31) unipartite ecological network (L: 1638 - Bool)\n",
       " 135×135 (String31) unipartite ecological network (L: 1924 - Bool)\n",
       " 111×111 (String31) unipartite ecological network (L: 1717 - Bool)"
      ]
     },
     "execution_count": 31,
     "metadata": {},
     "output_type": "execute_result"
    }
   ],
   "source": [
    "# Convert networks to boolean arrays, then to unipartite networks\n",
    "As = convertWebsToBoolArray(webs)\n",
    "Ns = [UnipartiteNetwork(As[j],Ss[j]) for j in 1:length(As)]\n"
   ]
  },
  {
   "cell_type": "markdown",
   "id": "0b9920ce",
   "metadata": {},
   "source": [
    "## Network level analysis"
   ]
  },
  {
   "cell_type": "code",
   "execution_count": 32,
   "id": "7181a8a7",
   "metadata": {},
   "outputs": [
    {
     "data": {
      "text/plain": [
       "3-element Vector{Int64}:\n",
       " 1638\n",
       " 1924\n",
       " 1717"
      ]
     },
     "execution_count": 32,
     "metadata": {},
     "output_type": "execute_result"
    }
   ],
   "source": [
    "# How many links does each network have?\n",
    "links_byweb = [links(N) for N in Ns]\n"
   ]
  },
  {
   "cell_type": "code",
   "execution_count": 33,
   "id": "78133bd9",
   "metadata": {},
   "outputs": [
    {
     "data": {
      "text/plain": [
       "3-element Vector{Float64}:\n",
       " 0.13786718289706254\n",
       " 0.10556927297668038\n",
       " 0.13935557178800423"
      ]
     },
     "execution_count": 33,
     "metadata": {},
     "output_type": "execute_result"
    }
   ],
   "source": [
    "# What's the connectance of each network?\n",
    "C_byweb = [connectance(N) for N in Ns]\n"
   ]
  },
  {
   "cell_type": "code",
   "execution_count": 34,
   "id": "9157592e",
   "metadata": {},
   "outputs": [
    {
     "data": {
      "text/plain": [
       "3-element Vector{Int64}:\n",
       " 3\n",
       " 3\n",
       " 3"
      ]
     },
     "execution_count": 34,
     "metadata": {},
     "output_type": "execute_result"
    }
   ],
   "source": [
    "# What's the modularity of each network?\n",
    "modular_info = [get_modularity(N) for N in Ns]\n",
    "number_modules_byweb = [mod_info[1] for mod_info in modular_info]"
   ]
  },
  {
   "cell_type": "code",
   "execution_count": 35,
   "id": "a7784bd3",
   "metadata": {},
   "outputs": [
    {
     "data": {
      "text/plain": [
       "3-element Vector{Float64}:\n",
       " 0.1479547111415229\n",
       " 0.15236537306134285\n",
       " 0.1557801512013958"
      ]
     },
     "execution_count": 35,
     "metadata": {},
     "output_type": "execute_result"
    }
   ],
   "source": [
    "modularity_byweb = [mod_info[2] for mod_info in modular_info]"
   ]
  },
  {
   "cell_type": "code",
   "execution_count": 36,
   "id": "9ecd337f",
   "metadata": {},
   "outputs": [
    {
     "data": {
      "text/plain": [
       "3-element Vector{Float64}:\n",
       " 0.9676177161061251\n",
       " 0.9502405689149828\n",
       " 0.9671215976142671"
      ]
     },
     "execution_count": 36,
     "metadata": {},
     "output_type": "execute_result"
    }
   ],
   "source": [
    "nestedness_byweb = [ρ(N) for N in Ns]"
   ]
  },
  {
   "cell_type": "markdown",
   "id": "79baf948",
   "metadata": {},
   "source": [
    "## Species level metrics"
   ]
  },
  {
   "cell_type": "code",
   "execution_count": 37,
   "id": "cbbd5b8f",
   "metadata": {},
   "outputs": [
    {
     "data": {
      "text/plain": [
       "145×4 Matrix{Any}:\n",
       " \"species\"                              …    \"Postmonsoon\"    \"Monsoon\"\n",
       " \"Scapholeberis kingi\"           16               16\n",
       " \"Nettapus coromandelianus\"      16                 \"\"\n",
       " \"Felis chaus\"                    9               12\n",
       " \"Centropus bengalensis\"         17               25\n",
       " \"Himantopus himantopus\"      …  11               11\n",
       " \"Euphlyctis cyanophlyctis\"      34               31\n",
       " \"Anas poecilorhyncha\"           12                 \"\"\n",
       " \"Alona pulchella\"               15               15\n",
       " \"Mastacembelus armatus\"         33               31\n",
       " \"Asplanchna brightwelli\"     …  15               15\n",
       " \"Glossogobius giuris\"           35               34\n",
       " \"Polypedates maculatus\"         36               32\n",
       " ⋮                                      ⋱                   \n",
       " \"Microhyla mymensinghensis\"     37               34\n",
       " \"Phalacrocorax fuscicollis\"      9                 \"\"\n",
       " \"Charadrius dubius\"          …  11                 \"\"\n",
       " \"Motacilla tschutschensis\"      11                 \"\"\n",
       " \"Tringa stagnatilis\"            15                 \"\"\n",
       " \"Motacilla alba\"                12                 \"\"\n",
       " \"Anhinga melanogaster\"           9                 \"\"\n",
       " \"Xenus cinereus\"             …  15                 \"\"\n",
       " \"Anas acuta\"                    12                 \"\"\n",
       " \"Sphaerotheca rolandae\"           \"\"             28\n",
       " \"Hylarana tytleri\"                \"\"             35\n",
       " \"Sphaerotheca breviceps\"          \"\"             28"
      ]
     },
     "execution_count": 37,
     "metadata": {},
     "output_type": "execute_result"
    }
   ],
   "source": [
    "degrees_byweb = [EcologicalNetworks.degree(N) for N in Ns]\n",
    "degree_array = create_dict_array(degrees_byweb, webnames, Ss)\n",
    "### Write to csv\n",
    "#CSV.write(\"data/Tampara/processed/degree_dataframe.csv\",  Tables.table(degree_array), writeheader=false)"
   ]
  },
  {
   "cell_type": "code",
   "execution_count": 38,
   "id": "03095249",
   "metadata": {},
   "outputs": [
    {
     "data": {
      "text/plain": [
       "145×4 Matrix{Any}:\n",
       " \"species\"                              …    \"Postmonsoon\"    \"Monsoon\"\n",
       " \"Scapholeberis kingi\"            0.0              0.0\n",
       " \"Nettapus coromandelianus\"      10.2184            \"\"\n",
       " \"Felis chaus\"                    2.75403          4.07563\n",
       " \"Centropus bengalensis\"          7.49845         11.0111\n",
       " \"Himantopus himantopus\"      …   3.58017          3.58017\n",
       " \"Euphlyctis cyanophlyctis\"       3.58017          3.58017\n",
       " \"Anas poecilorhyncha\"            8.32108           \"\"\n",
       " \"Alona pulchella\"                0.0              0.0\n",
       " \"Mastacembelus armatus\"          8.10633          8.10633\n",
       " \"Asplanchna brightwelli\"     …   0.0              0.0\n",
       " \"Glossogobius giuris\"           19.2746          19.2746\n",
       " \"Polypedates maculatus\"          3.58017          3.58017\n",
       " ⋮                                      ⋱                   \n",
       " \"Microhyla mymensinghensis\"      3.58017          3.58017\n",
       " \"Phalacrocorax fuscicollis\"      2.3727            \"\"\n",
       " \"Charadrius dubius\"          …   3.58017           \"\"\n",
       " \"Motacilla tschutschensis\"       3.58017           \"\"\n",
       " \"Tringa stagnatilis\"             5.10875           \"\"\n",
       " \"Motacilla alba\"                 3.64908           \"\"\n",
       " \"Anhinga melanogaster\"           2.3727            \"\"\n",
       " \"Xenus cinereus\"             …   5.10875           \"\"\n",
       " \"Anas acuta\"                     8.32108           \"\"\n",
       " \"Sphaerotheca rolandae\"           \"\"              3.58017\n",
       " \"Hylarana tytleri\"                \"\"              3.58017\n",
       " \"Sphaerotheca breviceps\"          \"\"              3.58017"
      ]
     },
     "execution_count": 38,
     "metadata": {},
     "output_type": "execute_result"
    }
   ],
   "source": [
    "outdegrees_byweb = [EcologicalNetworks.degree(N, dims = 1) for N in Ns]\n",
    "outdegree_array = create_dict_array(outdegrees_byweb, webnames, Ss)\n",
    "### Write to csv\n",
    "#CSV.write(\"data/Tampara/processed/outdegree_dataframe.csv\",  Tables.table(outdegree_array), writeheader=false)\n",
    "\n",
    "\n",
    "specificity_byweb = [specificity(N) for N in Ns]\n",
    "specificity_array = create_dict_array(specificity_byweb, webnames, Ss)\n",
    "### Write to csv\n",
    "#CSV.write(\"data/Tampara/processed/specificity_dataframe.csv\",  Tables.table(specificity_array), writeheader=false)\n",
    "\n",
    "\n",
    "centrality_degree_byweb = [centrality_degree(N) for N in Ns]\n",
    "centrality_degree_array = create_dict_array(centrality_degree_byweb, webnames, Ss)\n",
    "### Write to csv\n",
    "#CSV.write(\"data/Tampara/processed/centrality_degree_dataframe.csv\",  Tables.table(centrality_degree_array), writeheader=false)\n",
    "\n",
    "\n",
    "centrality_closeness_byweb = [centrality_closeness(N) for N in Ns]\n",
    "centrality_closeness_array = create_dict_array(centrality_closeness_byweb, webnames, Ss)\n",
    "### Write to csv\n",
    "#CSV.write(\"data/Tampara/processed/centrality_closeness_dataframe.csv\",  Tables.table(centrality_closeness_array), writeheader=false)\n",
    "\n",
    "\n",
    "overlap_byweb = [overlap(N) for N in Ns]       # calculate overlap based on prey (dims = 1) or predators (dims = 2)\n",
    "#overlap_array = create_dict_array(overlap_byweb, webnames)   # This is more complicated because its done by pairs of species\n",
    "\n",
    "AJS_byweb = [AJS(N) for N in Ns]\n",
    "#AJS_array = create_dict_array(AJS_byweb, webnames) # This is more complicated because its done by pairs of species\n",
    "\n",
    "trophic_level_byweb = [trophic_level(N) for N in Ns]\n",
    "trophic_level_array = create_dict_array(trophic_level_byweb, webnames, Ss)\n",
    "### Write to csv\n",
    "#CSV.write(\"data/Tampara/processed/trophic_level_dataframe.csv\",  Tables.table(trophic_level_array), writeheader=false)\n",
    "\n",
    "\n",
    "omnivory_byweb = [omnivory(N) for N in Ns]\n",
    "omnivory_array = create_dict_array(omnivory_byweb, webnames, Ss)\n",
    "### Write to csv\n",
    "#CSV.write(\"data/Tampara/processed/omnivory_dataframe.csv\",  Tables.table(omnivory_array), writeheader=false)"
   ]
  },
  {
   "cell_type": "code",
   "execution_count": 42,
   "id": "38b70703",
   "metadata": {},
   "outputs": [
    {
     "data": {
      "text/plain": [
       "110×4 Matrix{Any}:\n",
       " \"species\"                               …   \"Postmonsoon\"   \"Monsoon\"\n",
       " \"Scapholeberis kingi\"            2               3\n",
       " \"Nettapus coromandelianus\"       3               1\n",
       " \"Felis chaus\"                    1               2\n",
       " \"Centropus bengalensis\"          3               1\n",
       " \"Himantopus himantopus\"       …  3               1\n",
       " \"Euphlyctis cyanophlyctis\"       3               1\n",
       " \"Anas poecilorhyncha\"            3               1\n",
       " \"Alona pulchella\"                2               3\n",
       " \"Mastacembelus armatus\"          3               1\n",
       " \"Asplanchna brightwelli\"      …  2               3\n",
       " \"Glossogobius giuris\"            3               1\n",
       " \"Polypedates maculatus\"          3               1\n",
       " ⋮                                       ⋱                  \n",
       " \"Pethia phutunio\"                2               3\n",
       " \"Acridotheres ginginianus\"       1               2\n",
       " \"Fejervarya orissaensis\"      …  3               1\n",
       " \"Haliaeetus leucogaster\"         1               2\n",
       " \"Keratella lenzi\"                2               3\n",
       " \"Centropyxis aculeata\"           2               3\n",
       " \"Ardeola grayii\"                 1               2\n",
       " \"Parambassis baculis\"         …  3               1\n",
       " \"Oriolus xanthornus\"             2               2\n",
       " \"Vanellus indicus\"               3               1\n",
       " \"Badis badis\"                    2               3\n",
       " \"Duttaphrynus melanostictus\"     3               1"
      ]
     },
     "execution_count": 42,
     "metadata": {},
     "output_type": "execute_result"
    }
   ],
   "source": [
    "modules_by_species = [mod_info[3] for mod_info in modular_info]\n",
    "modules_array = create_dict_array(modules_by_species, webnames, Ss)\n",
    "# I'm not sure these modules can be compared directly - we probably need to look more at the other species in the same module\n",
    "#CSV.write(\"../data/Tampara/processed/modules_dataframe.csv\",  Tables.table(modules_array), writeheader=false)\n",
    "\n",
    "\n",
    "# Plot modules\n",
    "#plot_modules(modules_by_species[2])"
   ]
  },
  {
   "cell_type": "code",
   "execution_count": 40,
   "id": "65da1a79",
   "metadata": {},
   "outputs": [
    {
     "data": {
      "text/plain": [
       "145×4 Matrix{Any}:\n",
       " \"species\"                              …   \"Postmonsoon\"   \"Monsoon\"\n",
       " \"Scapholeberis kingi\"           2.0             2.0\n",
       " \"Nettapus coromandelianus\"      4.18867          \"\"\n",
       " \"Felis chaus\"                   4.87218         5.05064\n",
       " \"Centropus bengalensis\"         4.62872         4.87229\n",
       " \"Himantopus himantopus\"      …  4.27418         4.27418\n",
       " \"Euphlyctis cyanophlyctis\"      4.27418         4.27418\n",
       " \"Anas poecilorhyncha\"           4.08467          \"\"\n",
       " \"Alona pulchella\"               2.0             2.0\n",
       " \"Mastacembelus armatus\"         4.45957         4.45957\n",
       " \"Asplanchna brightwelli\"     …  2.0             2.0\n",
       " \"Glossogobius giuris\"           4.27037         4.27037\n",
       " \"Polypedates maculatus\"         4.27418         4.27418\n",
       " ⋮                                      ⋱                  \n",
       " \"Microhyla mymensinghensis\"     4.27418         4.27418\n",
       " \"Phalacrocorax fuscicollis\"     4.66788          \"\"\n",
       " \"Charadrius dubius\"          …  4.27418          \"\"\n",
       " \"Motacilla tschutschensis\"      4.27418          \"\"\n",
       " \"Tringa stagnatilis\"            4.33458          \"\"\n",
       " \"Motacilla alba\"                4.25133          \"\"\n",
       " \"Anhinga melanogaster\"          4.66788          \"\"\n",
       " \"Xenus cinereus\"             …  4.33458          \"\"\n",
       " \"Anas acuta\"                    4.08467          \"\"\n",
       " \"Sphaerotheca rolandae\"          \"\"             4.27418\n",
       " \"Hylarana tytleri\"               \"\"             4.27418\n",
       " \"Sphaerotheca breviceps\"         \"\"             4.27418"
      ]
     },
     "execution_count": 40,
     "metadata": {},
     "output_type": "execute_result"
    }
   ],
   "source": [
    "trophic_level_byweb = [trophic_level(N) for N in Ns]\n",
    "trophic_level_array = create_dict_array(trophic_level_byweb, webnames, Ss)\n"
   ]
  },
  {
   "cell_type": "code",
   "execution_count": 43,
   "id": "bce65291",
   "metadata": {},
   "outputs": [
    {
     "data": {
      "text/html": [
       "<div><div style = \"float: left;\"><span>330×3 DataFrame</span></div><div style = \"float: right;\"><span style = \"font-style: italic;\">305 rows omitted</span></div><div style = \"clear: both;\"></div></div><div class = \"data-frame\" style = \"overflow-x: scroll;\"><table class = \"data-frame\" style = \"margin-bottom: 6px;\"><thead><tr class = \"header\"><th class = \"rowNumber\" style = \"font-weight: bold; text-align: right;\">Row</th><th style = \"text-align: left;\">x1</th><th style = \"text-align: left;\">variable</th><th style = \"text-align: left;\">value</th></tr><tr class = \"subheader headerLastRow\"><th class = \"rowNumber\" style = \"font-weight: bold; text-align: right;\"></th><th title = \"Any\" style = \"text-align: left;\">Any</th><th title = \"String\" style = \"text-align: left;\">String</th><th title = \"Any\" style = \"text-align: left;\">Any</th></tr></thead><tbody><tr><td class = \"rowNumber\" style = \"font-weight: bold; text-align: right;\">1</td><td style = \"text-align: left;\">species</td><td style = \"text-align: left;\">x2</td><td style = \"text-align: left;\">Premonsoon</td></tr><tr><td class = \"rowNumber\" style = \"font-weight: bold; text-align: right;\">2</td><td style = \"text-align: left;\">Scapholeberis kingi</td><td style = \"text-align: left;\">x2</td><td style = \"text-align: left;\">3</td></tr><tr><td class = \"rowNumber\" style = \"font-weight: bold; text-align: right;\">3</td><td style = \"text-align: left;\">Nettapus coromandelianus</td><td style = \"text-align: left;\">x2</td><td style = \"text-align: left;\">1</td></tr><tr><td class = \"rowNumber\" style = \"font-weight: bold; text-align: right;\">4</td><td style = \"text-align: left;\">Felis chaus</td><td style = \"text-align: left;\">x2</td><td style = \"text-align: left;\">3</td></tr><tr><td class = \"rowNumber\" style = \"font-weight: bold; text-align: right;\">5</td><td style = \"text-align: left;\">Centropus bengalensis</td><td style = \"text-align: left;\">x2</td><td style = \"text-align: left;\">1</td></tr><tr><td class = \"rowNumber\" style = \"font-weight: bold; text-align: right;\">6</td><td style = \"text-align: left;\">Himantopus himantopus</td><td style = \"text-align: left;\">x2</td><td style = \"text-align: left;\">1</td></tr><tr><td class = \"rowNumber\" style = \"font-weight: bold; text-align: right;\">7</td><td style = \"text-align: left;\">Euphlyctis cyanophlyctis</td><td style = \"text-align: left;\">x2</td><td style = \"text-align: left;\">1</td></tr><tr><td class = \"rowNumber\" style = \"font-weight: bold; text-align: right;\">8</td><td style = \"text-align: left;\">Anas poecilorhyncha</td><td style = \"text-align: left;\">x2</td><td style = \"text-align: left;\">1</td></tr><tr><td class = \"rowNumber\" style = \"font-weight: bold; text-align: right;\">9</td><td style = \"text-align: left;\">Alona pulchella</td><td style = \"text-align: left;\">x2</td><td style = \"text-align: left;\">3</td></tr><tr><td class = \"rowNumber\" style = \"font-weight: bold; text-align: right;\">10</td><td style = \"text-align: left;\">Mastacembelus armatus</td><td style = \"text-align: left;\">x2</td><td style = \"text-align: left;\">2</td></tr><tr><td class = \"rowNumber\" style = \"font-weight: bold; text-align: right;\">11</td><td style = \"text-align: left;\">Asplanchna brightwelli</td><td style = \"text-align: left;\">x2</td><td style = \"text-align: left;\">3</td></tr><tr><td class = \"rowNumber\" style = \"font-weight: bold; text-align: right;\">12</td><td style = \"text-align: left;\">Glossogobius giuris</td><td style = \"text-align: left;\">x2</td><td style = \"text-align: left;\">2</td></tr><tr><td class = \"rowNumber\" style = \"font-weight: bold; text-align: right;\">13</td><td style = \"text-align: left;\">Polypedates maculatus</td><td style = \"text-align: left;\">x2</td><td style = \"text-align: left;\">1</td></tr><tr><td style = \"text-align: right;\">&vellip;</td><td style = \"text-align: right;\">&vellip;</td><td style = \"text-align: right;\">&vellip;</td><td style = \"text-align: right;\">&vellip;</td></tr><tr><td class = \"rowNumber\" style = \"font-weight: bold; text-align: right;\">319</td><td style = \"text-align: left;\">Pethia phutunio</td><td style = \"text-align: left;\">x4</td><td style = \"text-align: left;\">3</td></tr><tr><td class = \"rowNumber\" style = \"font-weight: bold; text-align: right;\">320</td><td style = \"text-align: left;\">Acridotheres ginginianus</td><td style = \"text-align: left;\">x4</td><td style = \"text-align: left;\">2</td></tr><tr><td class = \"rowNumber\" style = \"font-weight: bold; text-align: right;\">321</td><td style = \"text-align: left;\">Fejervarya orissaensis</td><td style = \"text-align: left;\">x4</td><td style = \"text-align: left;\">1</td></tr><tr><td class = \"rowNumber\" style = \"font-weight: bold; text-align: right;\">322</td><td style = \"text-align: left;\">Haliaeetus leucogaster</td><td style = \"text-align: left;\">x4</td><td style = \"text-align: left;\">2</td></tr><tr><td class = \"rowNumber\" style = \"font-weight: bold; text-align: right;\">323</td><td style = \"text-align: left;\">Keratella lenzi</td><td style = \"text-align: left;\">x4</td><td style = \"text-align: left;\">3</td></tr><tr><td class = \"rowNumber\" style = \"font-weight: bold; text-align: right;\">324</td><td style = \"text-align: left;\">Centropyxis aculeata</td><td style = \"text-align: left;\">x4</td><td style = \"text-align: left;\">3</td></tr><tr><td class = \"rowNumber\" style = \"font-weight: bold; text-align: right;\">325</td><td style = \"text-align: left;\">Ardeola grayii</td><td style = \"text-align: left;\">x4</td><td style = \"text-align: left;\">2</td></tr><tr><td class = \"rowNumber\" style = \"font-weight: bold; text-align: right;\">326</td><td style = \"text-align: left;\">Parambassis baculis</td><td style = \"text-align: left;\">x4</td><td style = \"text-align: left;\">1</td></tr><tr><td class = \"rowNumber\" style = \"font-weight: bold; text-align: right;\">327</td><td style = \"text-align: left;\">Oriolus xanthornus</td><td style = \"text-align: left;\">x4</td><td style = \"text-align: left;\">2</td></tr><tr><td class = \"rowNumber\" style = \"font-weight: bold; text-align: right;\">328</td><td style = \"text-align: left;\">Vanellus indicus</td><td style = \"text-align: left;\">x4</td><td style = \"text-align: left;\">1</td></tr><tr><td class = \"rowNumber\" style = \"font-weight: bold; text-align: right;\">329</td><td style = \"text-align: left;\">Badis badis</td><td style = \"text-align: left;\">x4</td><td style = \"text-align: left;\">3</td></tr><tr><td class = \"rowNumber\" style = \"font-weight: bold; text-align: right;\">330</td><td style = \"text-align: left;\">Duttaphrynus melanostictus</td><td style = \"text-align: left;\">x4</td><td style = \"text-align: left;\">1</td></tr></tbody></table></div>"
      ],
      "text/latex": [
       "\\begin{tabular}{r|ccc}\n",
       "\t& x1 & variable & value\\\\\n",
       "\t\\hline\n",
       "\t& Any & String & Any\\\\\n",
       "\t\\hline\n",
       "\t1 & species & x2 & Premonsoon \\\\\n",
       "\t2 & Scapholeberis kingi & x2 & 3 \\\\\n",
       "\t3 & Nettapus coromandelianus & x2 & 1 \\\\\n",
       "\t4 & Felis chaus & x2 & 3 \\\\\n",
       "\t5 & Centropus bengalensis & x2 & 1 \\\\\n",
       "\t6 & Himantopus himantopus & x2 & 1 \\\\\n",
       "\t7 & Euphlyctis cyanophlyctis & x2 & 1 \\\\\n",
       "\t8 & Anas poecilorhyncha & x2 & 1 \\\\\n",
       "\t9 & Alona pulchella & x2 & 3 \\\\\n",
       "\t10 & Mastacembelus armatus & x2 & 2 \\\\\n",
       "\t11 & Asplanchna brightwelli & x2 & 3 \\\\\n",
       "\t12 & Glossogobius giuris & x2 & 2 \\\\\n",
       "\t13 & Polypedates maculatus & x2 & 1 \\\\\n",
       "\t14 & Aquarius adelaides & x2 & 1 \\\\\n",
       "\t15 & Naja naja & x2 & 2 \\\\\n",
       "\t16 & Hirundo rustica & x2 & 1 \\\\\n",
       "\t17 & Macrobrachium rosenbergii & x2 & 1 \\\\\n",
       "\t18 & Nycticorax nycticorax & x2 & 2 \\\\\n",
       "\t19 & Ardea alba & x2 & 2 \\\\\n",
       "\t20 & Bungarus fasciatus & x2 & 2 \\\\\n",
       "\t21 & Macrobrachium equidens & x2 & 3 \\\\\n",
       "\t22 & Mesocyclops leukarti & x2 & 3 \\\\\n",
       "\t23 & Oreochromis niloticus & x2 & 3 \\\\\n",
       "\t24 & Gallinula chloropus & x2 & 1 \\\\\n",
       "\t25 & Limnogonus fossarum & x2 & 1 \\\\\n",
       "\t26 & Notopterus notopterus & x2 & 3 \\\\\n",
       "\t27 & Varanus bengalensis & x2 & 2 \\\\\n",
       "\t28 & Xenentodon cancila & x2 & 1 \\\\\n",
       "\t29 & Macrobrachium rude & x2 & 3 \\\\\n",
       "\t30 & Amaurornis phoenicurus & x2 & 1 \\\\\n",
       "\t$\\dots$ & $\\dots$ & $\\dots$ & $\\dots$ \\\\\n",
       "\\end{tabular}\n"
      ],
      "text/plain": [
       "\u001b[1m330×3 DataFrame\u001b[0m\n",
       "\u001b[1m Row \u001b[0m│\u001b[1m x1                         \u001b[0m\u001b[1m variable \u001b[0m\u001b[1m value      \u001b[0m\n",
       "     │\u001b[90m Any                        \u001b[0m\u001b[90m String   \u001b[0m\u001b[90m Any        \u001b[0m\n",
       "─────┼──────────────────────────────────────────────────\n",
       "   1 │ species                     x2        Premonsoon\n",
       "   2 │ Scapholeberis kingi         x2        3\n",
       "   3 │ Nettapus coromandelianus    x2        1\n",
       "   4 │ Felis chaus                 x2        3\n",
       "   5 │ Centropus bengalensis       x2        1\n",
       "   6 │ Himantopus himantopus       x2        1\n",
       "   7 │ Euphlyctis cyanophlyctis    x2        1\n",
       "   8 │ Anas poecilorhyncha         x2        1\n",
       "   9 │ Alona pulchella             x2        3\n",
       "  10 │ Mastacembelus armatus       x2        2\n",
       "  11 │ Asplanchna brightwelli      x2        3\n",
       "  ⋮  │             ⋮                  ⋮          ⋮\n",
       " 321 │ Fejervarya orissaensis      x4        1\n",
       " 322 │ Haliaeetus leucogaster      x4        2\n",
       " 323 │ Keratella lenzi             x4        3\n",
       " 324 │ Centropyxis aculeata        x4        3\n",
       " 325 │ Ardeola grayii              x4        2\n",
       " 326 │ Parambassis baculis         x4        1\n",
       " 327 │ Oriolus xanthornus          x4        2\n",
       " 328 │ Vanellus indicus            x4        1\n",
       " 329 │ Badis badis                 x4        3\n",
       " 330 │ Duttaphrynus melanostictus  x4        1\n",
       "\u001b[36m                                        309 rows omitted\u001b[0m"
      ]
     },
     "execution_count": 43,
     "metadata": {},
     "output_type": "execute_result"
    }
   ],
   "source": [
    "# Need to figure this out, then can put all the data in one big data frame\n",
    "\n",
    "modules_array_long = stack(DataFrame(modules_array, :auto), 2:4)"
   ]
  },
  {
   "cell_type": "markdown",
   "id": "9e0709a0",
   "metadata": {},
   "source": [
    "## Motifs\n"
   ]
  },
  {
   "cell_type": "code",
   "execution_count": 44,
   "id": "5a1c9e9a",
   "metadata": {},
   "outputs": [
    {
     "data": {
      "text/plain": [
       "13×3 Matrix{Vector{Any}}:\n",
       " [([1, 7, 35],), ([1, 7, 36],), ([1, 7, 39],), ([1, 7, 40],), ([1, 7, 52],), ([1, 7, 53],), ([1, 7, 75],), ([1, 7, 76],), ([1, 7, 93],), ([1, 7, 106],)  …  ([98, 106, 108],), ([99, 101, 105],), ([99, 104, 105],), ([99, 105, 106],), ([99, 105, 107],), ([99, 105, 109],), ([99, 106, 108],), ([100, 101, 103],), ([101, 103, 104],), ([101, 103, 105],)]            …  [([1, 6, 34],), ([1, 6, 35],), ([1, 6, 38],), ([1, 6, 39],), ([1, 6, 50],), ([1, 6, 51],), ([1, 6, 53],), ([1, 6, 74],), ([1, 6, 75],), ([1, 6, 76],)  …  ([98, 105, 109],), ([98, 105, 111],), ([98, 106, 107],), ([98, 107, 108],), ([98, 107, 109],), ([98, 107, 111],), ([98, 108, 110],), ([99, 100, 104],), ([100, 104, 106],), ([100, 104, 107],)]\n",
       " [([1, 35, 53],), ([1, 36, 53],), ([1, 39, 52],), ([1, 39, 53],), ([1, 40, 52],), ([1, 40, 53],), ([1, 52, 53],), ([1, 52, 76],), ([1, 52, 106],), ([1, 53, 75],)  …  ([95, 97, 109],), ([95, 98, 105],), ([95, 98, 109],), ([95, 99, 104],), ([95, 99, 105],), ([95, 99, 109],), ([97, 103, 105],), ([98, 103, 105],), ([99, 103, 104],), ([99, 103, 105],)]              [([1, 34, 51],), ([1, 35, 51],), ([1, 38, 50],), ([1, 38, 51],), ([1, 39, 50],), ([1, 39, 51],), ([1, 50, 51],), ([1, 50, 53],), ([1, 50, 74],), ([1, 50, 76],)  …  ([94, 98, 106],), ([94, 98, 107],), ([94, 98, 111],), ([96, 104, 105],), ([96, 104, 107],), ([97, 104, 105],), ([97, 104, 107],), ([98, 104, 105],), ([98, 104, 106],), ([98, 104, 107],)]\n",
       " []                                                                                                                                                                                                                                                                                                                                                                        []\n",
       " [([1, 2, 40],), ([1, 2, 75],), ([1, 2, 76],), ([1, 2, 93],), ([1, 2, 106],), ([1, 6, 40],), ([1, 6, 75],), ([1, 6, 76],), ([1, 6, 93],), ([1, 6, 106],)  …  ([99, 103, 109],), ([99, 104, 106],), ([99, 104, 107],), ([99, 104, 109],), ([99, 106, 107],), ([99, 106, 109],), ([99, 107, 109],), ([100, 101, 104],), ([100, 101, 105],), ([101, 104, 105],)]              [([1, 2, 39],), ([1, 2, 53],), ([1, 2, 74],), ([1, 2, 75],), ([1, 2, 76],), ([1, 2, 92],), ([1, 2, 108],), ([1, 5, 39],), ([1, 5, 53],), ([1, 5, 74],)  …  ([98, 104, 111],), ([98, 106, 108],), ([98, 106, 109],), ([98, 106, 111],), ([98, 108, 109],), ([98, 108, 111],), ([98, 109, 111],), ([99, 100, 106],), ([99, 100, 107],), ([100, 106, 107],)]\n",
       " [([1, 35, 36],), ([1, 35, 39],), ([1, 35, 40],), ([1, 35, 52],), ([1, 35, 75],), ([1, 35, 76],), ([1, 35, 93],), ([1, 35, 106],), ([1, 36, 39],), ([1, 36, 40],)  …  ([95, 104, 105],), ([95, 104, 109],), ([95, 105, 109],), ([96, 100, 103],), ([96, 103, 104],), ([96, 103, 105],), ([99, 101, 104],), ([100, 103, 104],), ([100, 103, 105],), ([103, 104, 105],)]     [([1, 34, 35],), ([1, 34, 38],), ([1, 34, 39],), ([1, 34, 50],), ([1, 34, 53],), ([1, 34, 74],), ([1, 34, 75],), ([1, 34, 76],), ([1, 34, 92],), ([1, 34, 101],)  …  ([98, 105, 107],), ([99, 104, 105],), ([99, 104, 106],), ([99, 104, 107],), ([101, 102, 110],), ([101, 108, 110],), ([102, 108, 110],), ([104, 105, 106],), ([104, 105, 107],), ([104, 106, 107],)]\n",
       " [([7, 8, 97],), ([7, 8, 98],), ([7, 8, 99],), ([7, 16, 97],), ([7, 16, 98],), ([7, 16, 99],), ([7, 27, 28],), ([7, 33, 34],), ([7, 33, 97],), ([7, 33, 98],)  …  ([61, 99, 100],), ([77, 91, 98],), ([77, 91, 99],), ([77, 98, 99],), ([77, 98, 100],), ([77, 98, 104],), ([77, 99, 100],), ([97, 98, 105],), ([97, 99, 105],), ([98, 99, 105],)]                      …  [([6, 7, 96],), ([6, 7, 97],), ([6, 7, 98],), ([6, 15, 96],), ([6, 15, 97],), ([6, 15, 98],), ([6, 26, 27],), ([6, 32, 33],), ([6, 32, 96],), ([6, 32, 97],)  …  ([77, 97, 98],), ([77, 97, 99],), ([77, 97, 106],), ([77, 98, 99],), ([96, 97, 105],), ([96, 97, 107],), ([96, 98, 105],), ([96, 98, 107],), ([97, 98, 105],), ([97, 98, 107],)]\n",
       " [([2, 8, 97],), ([2, 8, 98],), ([2, 8, 99],), ([2, 16, 97],), ([2, 16, 98],), ([2, 16, 99],), ([2, 33, 34],), ([2, 33, 97],), ([2, 33, 98],), ([2, 34, 97],)  …  ([97, 99, 109],), ([97, 100, 103],), ([97, 103, 104],), ([98, 99, 103],), ([98, 99, 106],), ([98, 99, 107],), ([98, 99, 109],), ([98, 100, 103],), ([98, 103, 104],), ([99, 100, 103],)]                 [([2, 7, 96],), ([2, 7, 97],), ([2, 7, 98],), ([2, 15, 96],), ([2, 15, 97],), ([2, 15, 98],), ([2, 32, 33],), ([2, 32, 96],), ([2, 32, 97],), ([2, 33, 96],)  …  ([96, 104, 106],), ([97, 98, 101],), ([97, 98, 102],), ([97, 98, 104],), ([97, 98, 108],), ([97, 98, 109],), ([97, 98, 111],), ([97, 99, 104],), ([97, 104, 106],), ([98, 99, 104],)]\n",
       " [([3, 16, 97],), ([3, 16, 98],), ([3, 16, 99],), ([3, 92, 97],), ([3, 92, 98],), ([3, 92, 99],), ([3, 97, 104],), ([3, 98, 104],), ([7, 21, 52],), ([7, 21, 53],)  …  ([97, 100, 101],), ([97, 100, 105],), ([97, 101, 104],), ([97, 104, 105],), ([98, 100, 101],), ([98, 100, 105],), ([98, 101, 104],), ([98, 104, 105],), ([99, 100, 101],), ([99, 100, 105],)]       [([3, 15, 96],), ([3, 15, 97],), ([3, 15, 98],), ([3, 91, 96],), ([3, 91, 97],), ([3, 91, 98],), ([3, 96, 106],), ([3, 97, 106],), ([6, 20, 50],), ([6, 20, 51],)  …  ([96, 106, 107],), ([97, 99, 100],), ([97, 99, 105],), ([97, 99, 107],), ([97, 100, 106],), ([97, 105, 106],), ([97, 106, 107],), ([98, 99, 100],), ([98, 99, 105],), ([98, 99, 107],)]\n",
       " [([1, 21, 52],), ([1, 21, 53],), ([1, 42, 52],), ([1, 42, 53],), ([5, 8, 97],), ([5, 8, 98],), ([5, 8, 99],), ([5, 16, 97],), ([5, 16, 98],), ([5, 16, 99],)  …  ([98, 100, 106],), ([98, 100, 107],), ([98, 100, 109],), ([98, 104, 106],), ([98, 104, 107],), ([98, 104, 109],), ([99, 100, 104],), ([99, 100, 106],), ([99, 100, 107],), ([99, 100, 109],)]            [([1, 20, 50],), ([1, 20, 51],), ([1, 41, 50],), ([1, 41, 51],), ([5, 7, 96],), ([5, 7, 97],), ([5, 7, 98],), ([5, 15, 96],), ([5, 15, 97],), ([5, 15, 98],)  …  ([97, 102, 106],), ([97, 106, 108],), ([97, 106, 109],), ([97, 106, 111],), ([98, 99, 101],), ([98, 99, 102],), ([98, 99, 106],), ([98, 99, 108],), ([98, 99, 109],), ([98, 99, 111],)]\n",
       " [([8, 33, 99],), ([16, 33, 99],), ([16, 64, 97],), ([16, 64, 98],), ([16, 64, 99],), ([16, 65, 97],), ([16, 65, 98],), ([16, 65, 99],), ([33, 91, 99],), ([33, 92, 99],)  …  ([64, 92, 99],), ([64, 96, 97],), ([64, 96, 98],), ([64, 96, 99],), ([65, 92, 97],), ([65, 92, 98],), ([65, 92, 99],), ([65, 96, 97],), ([65, 96, 98],), ([65, 96, 99],)]                    [([7, 32, 98],), ([15, 32, 98],), ([15, 62, 96],), ([15, 62, 97],), ([15, 62, 98],), ([15, 63, 96],), ([15, 63, 97],), ([15, 63, 98],), ([32, 90, 98],), ([32, 91, 98],)  …  ([62, 91, 98],), ([62, 95, 96],), ([62, 95, 97],), ([62, 95, 98],), ([63, 91, 96],), ([63, 91, 97],), ([63, 91, 98],), ([63, 95, 96],), ([63, 95, 97],), ([63, 95, 98],)]\n",
       " [([8, 97, 98],), ([8, 97, 99],), ([8, 98, 99],), ([16, 97, 98],), ([16, 97, 99],), ([16, 98, 99],), ([27, 28, 84],), ([33, 34, 97],), ([33, 34, 98],), ([33, 97, 98],)  …  ([92, 97, 99],), ([92, 98, 99],), ([96, 97, 98],), ([96, 97, 99],), ([96, 98, 99],), ([97, 98, 99],), ([97, 98, 100],), ([97, 98, 104],), ([97, 99, 100],), ([98, 99, 100],)]               …  [([7, 96, 97],), ([7, 96, 98],), ([7, 97, 98],), ([15, 96, 97],), ([15, 96, 98],), ([15, 97, 98],), ([26, 27, 83],), ([32, 33, 96],), ([32, 33, 97],), ([32, 96, 97],)  …  ([91, 96, 98],), ([91, 97, 98],), ([95, 96, 97],), ([95, 96, 98],), ([95, 97, 98],), ([96, 97, 98],), ([96, 97, 99],), ([96, 97, 106],), ([96, 98, 99],), ([97, 98, 99],)]\n",
       " [([8, 33, 97],), ([8, 33, 98],), ([8, 34, 97],), ([8, 34, 98],), ([8, 34, 99],), ([16, 33, 97],), ([16, 33, 98],), ([16, 34, 97],), ([16, 34, 98],), ([16, 34, 99],)  …  ([34, 96, 98],), ([34, 96, 99],), ([34, 97, 100],), ([34, 97, 104],), ([34, 98, 100],), ([34, 98, 104],), ([34, 99, 100],), ([42, 52, 53],), ([97, 99, 104],), ([98, 99, 104],)]                 [([7, 32, 96],), ([7, 32, 97],), ([7, 33, 96],), ([7, 33, 97],), ([7, 33, 98],), ([15, 32, 96],), ([15, 32, 97],), ([15, 33, 96],), ([15, 33, 97],), ([15, 33, 98],)  …  ([33, 95, 97],), ([33, 95, 98],), ([33, 96, 99],), ([33, 96, 106],), ([33, 97, 99],), ([33, 97, 106],), ([33, 98, 99],), ([41, 50, 51],), ([96, 98, 106],), ([97, 98, 106],)]\n",
       " [([8, 16, 97],), ([8, 16, 98],), ([8, 16, 99],), ([8, 91, 97],), ([8, 91, 98],), ([8, 91, 99],), ([8, 92, 97],), ([8, 92, 98],), ([8, 92, 99],), ([8, 96, 97],)  …  ([92, 98, 100],), ([92, 98, 104],), ([92, 99, 100],), ([96, 97, 100],), ([96, 97, 104],), ([96, 98, 100],), ([96, 98, 104],), ([96, 99, 100],), ([97, 100, 104],), ([98, 100, 104],)]                 [([7, 15, 96],), ([7, 15, 97],), ([7, 15, 98],), ([7, 90, 96],), ([7, 90, 97],), ([7, 90, 98],), ([7, 91, 96],), ([7, 91, 97],), ([7, 91, 98],), ([7, 95, 96],)  …  ([91, 97, 99],), ([91, 97, 106],), ([91, 98, 99],), ([95, 96, 99],), ([95, 96, 106],), ([95, 97, 99],), ([95, 97, 106],), ([95, 98, 99],), ([96, 99, 106],), ([97, 99, 106],)]"
      ]
     },
     "execution_count": 44,
     "metadata": {},
     "output_type": "execute_result"
    }
   ],
   "source": [
    "# Get all the motif tuples for each motif and each web\n",
    "motif_lists = [find_motif(N,m) for m in unipartitemotifs(), N in Ns]\n",
    "\n"
   ]
  },
  {
   "cell_type": "code",
   "execution_count": null,
   "id": "858c6c5c",
   "metadata": {},
   "outputs": [],
   "source": [
    "# motif 3 doesn't seem to exist in any of our webs, so this breaks if we do it normally\n",
    "motifs = [1,2,4,5,6,7,8,9,10,11,12,13]\n",
    "\n",
    "# Make a dataframe to store everything\n",
    "species_motif_counts_df = DataFrame(web = String[], motif = Symbol[], species = String[], count = Int[])\n",
    "# Get the motif names\n",
    "motifnames = fieldnames(typeof(unipartitemotifs()))\n",
    "\n",
    "\n",
    "# Run through each network, motif, and species in each network \n",
    "for N in 1:size(webnames,1)\n",
    "    for m in motifs\n",
    "        # Remember to use Ss[N] because some species don't occur in all networks\n",
    "        for sp in 1:size(Ss[N],1)\n",
    "            # get the name of the web, motif, and species\n",
    "            web = webnames[N]\n",
    "            motif = motifnames[m]\n",
    "            species = Ss[N][sp]\n",
    "\n",
    "            # Count how often that species appears in that motif\n",
    "            # This could be edited to get each motif position, by adding a value in the final position of motif_lists. E.g. motif_lists[m,N][x][1,position]\n",
    "            count = sum([sp in motif_lists[m,N][x][1,] for x in 1:size(motif_lists[m,N],1)]) \n",
    "\n",
    "            # Add a row to the dataframe\n",
    "            species_motif_counts_df = push!(species_motif_counts_df, [web, motif, species, count])\n",
    "        end\n",
    "    end\n",
    "end\n",
    "\n",
    "\n",
    "\n",
    "CSV.write(\"data/Tampara/processed/species_motif_counts.csv\", species_motif_counts_df, writeheader=FALSE)\n",
    "\n"
   ]
  },
  {
   "cell_type": "code",
   "execution_count": null,
   "id": "2f66797e",
   "metadata": {},
   "outputs": [],
   "source": [
    "motif_list_premonsoon = [find_motif(Ns[1],m) for m in unipartitemotifs()]"
   ]
  },
  {
   "cell_type": "code",
   "execution_count": null,
   "id": "61073f7d",
   "metadata": {},
   "outputs": [],
   "source": [
    "CSV.write(\"motif_list_premonsoon.csv\", Tables.table(motif_list_premonsoon), writeheader=false)"
   ]
  },
  {
   "cell_type": "code",
   "execution_count": null,
   "id": "0fc2f92c",
   "metadata": {},
   "outputs": [],
   "source": [
    "unipartitemotifs()\n",
    "\n"
   ]
  },
  {
   "cell_type": "code",
   "execution_count": null,
   "id": "3242f8c8",
   "metadata": {},
   "outputs": [],
   "source": [
    "S1_premonsoon = find_motif(Ns[1],unipartitemotifs()[1])"
   ]
  },
  {
   "cell_type": "code",
   "execution_count": null,
   "id": "b41863d1",
   "metadata": {},
   "outputs": [],
   "source": [
    "CSV.write(\"S1_premonsoon.csv\", Tables.table(S1_premonsoon), writeheader=false)\n",
    "#CSV.write(\"FileName.csv\",  Tables.table(A), writeheader=false)"
   ]
  }
 ],
 "metadata": {
  "kernelspec": {
   "display_name": "Julia 1.8.1",
   "language": "julia",
   "name": "julia-1.8"
  },
  "language_info": {
   "file_extension": ".jl",
   "mimetype": "application/julia",
   "name": "julia",
   "version": "1.8.1"
  }
 },
 "nbformat": 4,
 "nbformat_minor": 5
}
