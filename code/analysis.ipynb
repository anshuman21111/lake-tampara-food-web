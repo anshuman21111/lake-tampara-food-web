{
 "cells": [
  {
   "cell_type": "markdown",
   "id": "b68a8bf0",
   "metadata": {},
   "source": [
    "## Setting up"
   ]
  },
  {
   "cell_type": "code",
   "execution_count": 2,
   "id": "c4ff5393",
   "metadata": {},
   "outputs": [],
   "source": [
    "#Loading packages\n",
    "\n",
    "using Pkg\n",
    "#Pkg.add(\"EcologicalNetworks\")\n",
    "\n",
    "#import Pkg; Pkg.add(\"CSV\"); Pkg.add(\"DataFrames\")\n",
    "using CSV\n",
    "using DataFrames\n",
    "using EcologicalNetworks\n",
    "using EcologicalNetworksPlots\n",
    "\n"
   ]
  },
  {
   "cell_type": "code",
   "execution_count": null,
   "id": "7860ee56",
   "metadata": {},
   "outputs": [],
   "source": [
    "# Setting up functions\n",
    "\n",
    "#This function opens and reads all the files\n",
    "function openwebs(webnames)\n",
    "    dfs = []\n",
    "\n",
    "    for web in webnames\n",
    "        filename = \"../data/Tampara/\" * web * \"_adjacency_matrix.csv\"\n",
    "\n",
    "        df = CSV.read(filename,DataFrame)\n",
    "\n",
    "        # Append the df to the list\n",
    "        push!(dfs, df)\n",
    "\n",
    "    end\n",
    "\n",
    "    return dfs\n",
    "\n",
    "end"
   ]
  },
  {
   "cell_type": "code",
   "execution_count": null,
   "id": "5156aa92",
   "metadata": {},
   "outputs": [],
   "source": [
    "# This extracts the species names from the files\n",
    "function getspecies(webs)\n",
    "    Ss = []\n",
    "\n",
    "    for web in webs\n",
    "        # Get the first column which has the names of all the species\n",
    "        S = web.Column1\n",
    "\n",
    "        # Append S to the list\n",
    "        push!(Ss, S)\n",
    "\n",
    "    end\n",
    "\n",
    "    return Ss\n",
    "\n",
    "end"
   ]
  },
  {
   "cell_type": "code",
   "execution_count": null,
   "id": "efbe76bd",
   "metadata": {},
   "outputs": [],
   "source": [
    "# Convert webs to boolean array\n",
    "function convertWebsToBoolArray(webs)\n",
    "    As = []\n",
    "\n",
    "    for web in webs\n",
    "        ## Remove the column with the names\n",
    "        A = Array(web[:,2:end])\n",
    "\n",
    "        # Convert to boolean\n",
    "        A = isone.(A)\n",
    "\n",
    "        # Append A to the list\n",
    "        push!(As, A)\n",
    "\n",
    "    end\n",
    "\n",
    "    return As\n",
    "\n",
    "end"
   ]
  },
  {
   "cell_type": "code",
   "execution_count": null,
   "id": "c0ea046c",
   "metadata": {},
   "outputs": [],
   "source": [
    "# Convert the output into an array with species and the results for each web\n",
    "function create_dict_array(dicts, webnames, Ss)\n",
    "    species = collect(keys(dicts[1]))\n",
    "\n",
    "    for d in dicts[2:end]\n",
    "        species = union(species, keys(d))\n",
    "    end\n",
    "    \n",
    "    #data = Array[length(species) + 1, length(dicts)]\n",
    "    data = Array{Any}(undef, length(species)+1, length(dicts) + 1)\n",
    "\n",
    "    data[1, 1] = \"species\"\n",
    "\n",
    "    for i in 2:length(species)+1\n",
    "        data[i, 1] = species[i-1]\n",
    "    end\n",
    "\n",
    "    for j in 1:length(dicts)\n",
    "        for i in 2:length(species)+1\n",
    "            data[i, j+1] = get(dicts[j], species[i-1], \"\")\n",
    "        end\n",
    "    end\n",
    "    \n",
    "    #df = DataFrame(data, :auto)\n",
    "    data[1,2:4] = webnames\n",
    "\n",
    "    return data\n",
    "end"
   ]
  },
  {
   "cell_type": "code",
   "execution_count": null,
   "id": "1bb1ad82",
   "metadata": {},
   "outputs": [],
   "source": []
  },
  {
   "cell_type": "code",
   "execution_count": null,
   "id": "235fbeb6",
   "metadata": {},
   "outputs": [],
   "source": []
  },
  {
   "cell_type": "code",
   "execution_count": null,
   "id": "0bb231e7",
   "metadata": {},
   "outputs": [],
   "source": [
    "function get_modularity(N, output = \"all\")\n",
    "    n = repeat(3:12, outer=20)\n",
    "    m = Array{Dict}(undef, length(n))\n",
    "\n",
    "    for i in eachindex(n)\n",
    "      # Each run returns the network and its modules\n",
    "      # We discard the network, and assign the modules to our object\n",
    "      _, m[i] = n_random_modules(n[i])(Ns[1]) |> x -> brim(x...)\n",
    "    end\n",
    "\n",
    "    q = map(x -> Q(Ns[1],x), m);\n",
    "    c = (m .|> values |> collect) .|> unique .|> length\n",
    "\n",
    "\n",
    "    #using Plots\n",
    "    #using Plots.PlotMeasures\n",
    "\n",
    "    #p1 = scatter(c, q, c=:grey, msw=0.0, leg=false, frame=:origin, grid=false, margin=10mm)\n",
    "    #xaxis!(p1, \"Number of modules\")\n",
    "    #yaxis!(p1, \"Modularity\", (0, 0.1))\n",
    "    \n",
    "    optimal = rand(findall(q.== maximum(q)));\n",
    "    best_m = m[optimal]\n",
    "    modularity = maximum(q)\n",
    "    number_modules = c[optimal]\n",
    "        \n",
    "    \n",
    "    if output == \"all\"\n",
    "        return number_modules, modularity, best_m\n",
    "    end\n",
    "    if output == \"number_modules\"\n",
    "        return number_modules\n",
    "    end\n",
    "    if output == \"modularity\"\n",
    "        return modularity\n",
    "    end\n",
    "    if output == \"modules\"\n",
    "        return best_m\n",
    "    end\n",
    "end"
   ]
  },
  {
   "cell_type": "code",
   "execution_count": null,
   "id": "8a120e32",
   "metadata": {},
   "outputs": [],
   "source": []
  },
  {
   "cell_type": "code",
   "execution_count": null,
   "id": "45cf2291",
   "metadata": {},
   "outputs": [],
   "source": [
    "function plot_modules(modules_species)\n",
    "\n",
    "    I = initial(RandomInitialLayout, Ns[1])\n",
    "    for step in 1:4000\n",
    "      position!(SpringElectric(1.2; gravity=0.1), I, Ns[1])\n",
    "    end\n",
    "    p2 = plot(I, Ns[1], aspectratio=1)\n",
    "    scatter!(p2, I, Ns[1], bipartite=true, nodefill=best_m, markercolor=:isolum)\n",
    "\n",
    "end"
   ]
  },
  {
   "cell_type": "markdown",
   "id": "1d7089cf",
   "metadata": {},
   "source": [
    "## Our data"
   ]
  },
  {
   "cell_type": "code",
   "execution_count": null,
   "id": "a96574ef",
   "metadata": {},
   "outputs": [],
   "source": [
    "webnames = [\"Premonsoon\",\"Postmonsoon\",\"Monsoon\"]\n",
    "webs = openwebs(webnames)\n"
   ]
  },
  {
   "cell_type": "code",
   "execution_count": null,
   "id": "6eccb4ca",
   "metadata": {},
   "outputs": [],
   "source": [
    "# Get lists of species\n",
    "Ss = getspecies(webs)"
   ]
  },
  {
   "cell_type": "code",
   "execution_count": null,
   "id": "fbb5b90e",
   "metadata": {},
   "outputs": [],
   "source": [
    "# Convert networks to boolean arrays, then to unipartite networks\n",
    "As = convertWebsToBoolArray(webs)\n",
    "Ns = [UnipartiteNetwork(As[j],Ss[j]) for j in 1:length(As)]\n"
   ]
  },
  {
   "cell_type": "markdown",
   "id": "0b9920ce",
   "metadata": {},
   "source": [
    "## Network level analysis"
   ]
  },
  {
   "cell_type": "code",
   "execution_count": null,
   "id": "7181a8a7",
   "metadata": {},
   "outputs": [],
   "source": [
    "# How many links does each network have?\n",
    "links_byweb = [links(N) for N in Ns]\n"
   ]
  },
  {
   "cell_type": "code",
   "execution_count": null,
   "id": "78133bd9",
   "metadata": {},
   "outputs": [],
   "source": [
    "# What's the connectance of each network?\n",
    "C_byweb = [connectance(N) for N in Ns]\n"
   ]
  },
  {
   "cell_type": "code",
   "execution_count": null,
   "id": "9157592e",
   "metadata": {},
   "outputs": [],
   "source": [
    "# What's the modularity of each network?\n",
    "modular_info = [get_modularity(N) for N in Ns]\n",
    "number_modules_byweb = [mod_info[1] for mod_info in modular_info]"
   ]
  },
  {
   "cell_type": "code",
   "execution_count": null,
   "id": "a7784bd3",
   "metadata": {},
   "outputs": [],
   "source": [
    "modularity_byweb = [mod_info[2] for mod_info in modular_info]"
   ]
  },
  {
   "cell_type": "code",
   "execution_count": null,
   "id": "9ecd337f",
   "metadata": {},
   "outputs": [],
   "source": [
    "nestedness_byweb = [ρ(N) for N in Ns]"
   ]
  },
  {
   "cell_type": "markdown",
   "id": "79baf948",
   "metadata": {},
   "source": [
    "## Species level metrics"
   ]
  },
  {
   "cell_type": "code",
   "execution_count": null,
   "id": "cbbd5b8f",
   "metadata": {},
   "outputs": [],
   "source": [
    "degrees_byweb = [EcologicalNetworks.degree(N) for N in Ns]\n",
    "degree_array = create_dict_array(degrees_byweb, webnames, Ss)\n",
    "### Write to csv\n",
    "#CSV.write(\"data/Tampara/processed/degree_dataframe.csv\",  Tables.table(degree_array), writeheader=false)"
   ]
  },
  {
   "cell_type": "code",
   "execution_count": null,
   "id": "03095249",
   "metadata": {},
   "outputs": [],
   "source": [
    "outdegrees_byweb = [EcologicalNetworks.degree(N, dims = 1) for N in Ns]\n",
    "outdegree_array = create_dict_array(outdegrees_byweb, webnames, Ss)\n",
    "### Write to csv\n",
    "#CSV.write(\"data/Tampara/processed/outdegree_dataframe.csv\",  Tables.table(outdegree_array), writeheader=false)\n",
    "\n",
    "\n",
    "specificity_byweb = [specificity(N) for N in Ns]\n",
    "specificity_array = create_dict_array(specificity_byweb, webnames, Ss)\n",
    "### Write to csv\n",
    "#CSV.write(\"data/Tampara/processed/specificity_dataframe.csv\",  Tables.table(specificity_array), writeheader=false)\n",
    "\n",
    "\n",
    "centrality_degree_byweb = [centrality_degree(N) for N in Ns]\n",
    "centrality_degree_array = create_dict_array(centrality_degree_byweb, webnames, Ss)\n",
    "### Write to csv\n",
    "#CSV.write(\"data/Tampara/processed/centrality_degree_dataframe.csv\",  Tables.table(centrality_degree_array), writeheader=false)\n",
    "\n",
    "\n",
    "centrality_closeness_byweb = [centrality_closeness(N) for N in Ns]\n",
    "centrality_closeness_array = create_dict_array(centrality_closeness_byweb, webnames, Ss)\n",
    "### Write to csv\n",
    "#CSV.write(\"data/Tampara/processed/centrality_closeness_dataframe.csv\",  Tables.table(centrality_closeness_array), writeheader=false)\n",
    "\n",
    "\n",
    "overlap_byweb = [overlap(N) for N in Ns]       # calculate overlap based on prey (dims = 1) or predators (dims = 2)\n",
    "#overlap_array = create_dict_array(overlap_byweb, webnames)   # This is more complicated because its done by pairs of species\n",
    "\n",
    "AJS_byweb = [AJS(N) for N in Ns]\n",
    "#AJS_array = create_dict_array(AJS_byweb, webnames) # This is more complicated because its done by pairs of species\n",
    "\n",
    "trophic_level_byweb = [trophic_level(N) for N in Ns]\n",
    "trophic_level_array = create_dict_array(trophic_level_byweb, webnames, Ss)\n",
    "### Write to csv\n",
    "#CSV.write(\"data/Tampara/processed/trophic_level_dataframe.csv\",  Tables.table(trophic_level_array), writeheader=false)\n",
    "\n",
    "\n",
    "omnivory_byweb = [omnivory(N) for N in Ns]\n",
    "omnivory_array = create_dict_array(omnivory_byweb, webnames, Ss)\n",
    "### Write to csv\n",
    "#CSV.write(\"data/Tampara/processed/omnivory_dataframe.csv\",  Tables.table(omnivory_array), writeheader=false)"
   ]
  },
  {
   "cell_type": "code",
   "execution_count": null,
   "id": "38b70703",
   "metadata": {},
   "outputs": [],
   "source": [
    "modules_by_species = [mod_info[3] for mod_info in modular_info]\n",
    "modules_array = create_dict_array(modules_by_species, webnames, Ss)\n",
    "# I'm not sure these modules can be compared directly - we probably need to look more at the other species in the same module\n",
    "#CSV.write(\"../data/Tampara/processed/modules_dataframe.csv\",  Tables.table(modules_array), writeheader=false)\n",
    "\n",
    "\n",
    "# Plot modules\n",
    "#plot_modules(modules_by_species[2])"
   ]
  },
  {
   "cell_type": "code",
   "execution_count": null,
   "id": "bce65291",
   "metadata": {},
   "outputs": [],
   "source": [
    "# Need to figure this out, then can put all the data in one big data frame\n",
    "\n",
    "modules_array_long = stack(DataFrame(modules_array, :auto), 2:4)"
   ]
  },
  {
   "cell_type": "markdown",
   "id": "9e0709a0",
   "metadata": {},
   "source": [
    "## Motifs\n"
   ]
  },
  {
   "cell_type": "code",
   "execution_count": null,
   "id": "5a1c9e9a",
   "metadata": {},
   "outputs": [],
   "source": [
    "# Get all the motif tuples for each motif and each web\n",
    "motif_lists = [find_motif(N,m) for m in unipartitemotifs(), N in Ns]\n",
    "\n"
   ]
  },
  {
   "cell_type": "code",
   "execution_count": null,
   "id": "858c6c5c",
   "metadata": {},
   "outputs": [],
   "source": [
    "# motif 3 doesn't seem to exist in any of our webs, so this breaks if we do it normally\n",
    "motifs = [1,2,4,5,6,7,8,9,10,11,12,13]\n",
    "\n",
    "# Make a dataframe to store everything\n",
    "species_motif_counts_df = DataFrame(web = String[], motif = Symbol[], species = String[], count = Int[])\n",
    "# Get the motif names\n",
    "motifnames = fieldnames(typeof(unipartitemotifs()))\n",
    "\n",
    "\n",
    "# Run through each network, motif, and species in each network \n",
    "for N in 1:size(webnames,1)\n",
    "    for m in motifs\n",
    "        # Remember to use Ss[N] because some species don't occur in all networks\n",
    "        for sp in 1:size(Ss[N],1)\n",
    "            # get the name of the web, motif, and species\n",
    "            web = webnames[N]\n",
    "            motif = motifnames[m]\n",
    "            species = Ss[N][sp]\n",
    "\n",
    "            # Count how often that species appears in that motif\n",
    "            # This could be edited to get each motif position, by adding a value in the final position of motif_lists. E.g. motif_lists[m,N][x][1,position]\n",
    "            count = sum([sp in motif_lists[m,N][x][1,] for x in 1:size(motif_lists[m,N],1)]) \n",
    "\n",
    "            # Add a row to the dataframe\n",
    "            species_motif_counts_df = push!(species_motif_counts_df, [web, motif, species, count])\n",
    "        end\n",
    "    end\n",
    "end\n",
    "\n",
    "\n",
    "\n",
    "CSV.write(\"data/Tampara/processed/species_motif_counts.csv\", species_motif_counts_df, writeheader=FALSE)\n",
    "\n"
   ]
  },
  {
   "cell_type": "code",
   "execution_count": null,
   "id": "2f66797e",
   "metadata": {},
   "outputs": [],
   "source": [
    "motif_list_premonsoon = [find_motif(Ns[1],m) for m in unipartitemotifs()]"
   ]
  },
  {
   "cell_type": "code",
   "execution_count": null,
   "id": "61073f7d",
   "metadata": {},
   "outputs": [],
   "source": [
    "CSV.write(\"motif_list_premonsoon.csv\", Tables.table(motif_list_premonsoon), writeheader=false)"
   ]
  },
  {
   "cell_type": "code",
   "execution_count": null,
   "id": "0fc2f92c",
   "metadata": {},
   "outputs": [],
   "source": [
    "unipartitemotifs()\n",
    "\n"
   ]
  },
  {
   "cell_type": "code",
   "execution_count": null,
   "id": "3242f8c8",
   "metadata": {},
   "outputs": [],
   "source": [
    "S1_premonsoon = find_motif(Ns[1],unipartitemotifs()[1])"
   ]
  },
  {
   "cell_type": "code",
   "execution_count": null,
   "id": "b41863d1",
   "metadata": {},
   "outputs": [],
   "source": [
    "CSV.write(\"S1_premonsoon.csv\", Tables.table(S1_premonsoon), writeheader=false)\n",
    "#CSV.write(\"FileName.csv\",  Tables.table(A), writeheader=false)"
   ]
  }
 ],
 "metadata": {
  "kernelspec": {
   "display_name": "Julia 1.8.1",
   "language": "julia",
   "name": "julia-1.8"
  },
  "language_info": {
   "file_extension": ".jl",
   "mimetype": "application/julia",
   "name": "julia",
   "version": "1.8.1"
  }
 },
 "nbformat": 4,
 "nbformat_minor": 5
}
