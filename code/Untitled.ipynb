{
 "cells": [
  {
   "cell_type": "code",
   "execution_count": null,
   "id": "e8a9f747",
   "metadata": {},
   "outputs": [],
   "source": [
    "from bs4 import BeautifulSoup\n",
    "import sys\n",
    "import re\n",
    "import requests\n",
    "\n",
    "#from get_article_links_funcs import *\n",
    "\n",
    "# Run as: python3.9 get_articles_from_issue.py 'https://www.cell.com/trends/ecology-evolution/archive' 'TREE' 'TREE_issues.txt'\n",
    "\n",
    "# To start from a particular url (i.e. if it stops running), add that url to end of command above\n",
    "\n",
    "# Articles from 2010-2019 TREE here: https://www.cell.com/cell/archive?decade=201&widget=14602d51-93c2-4a08-ac06-050ec31e8707#loi_decade_201\n",
    "\n",
    "soup.find_all\n",
    "#archive_link = 'https://www.cell.com/trends/ecology-evolution/archive'\n",
    "#linksfilename = 'TREE_issues.txt'\n",
    "archive_link = sys.argv[1]\n",
    "journal = sys.argv[2]\n",
    "linksfilename = sys.argv[3]\n",
    "\n",
    "archive_url_list = get_links(archive_link, 'archive', journal)\n",
    "\n",
    "# some journals we're getting back to the 70s - too far! 12 takes us to 2010\n",
    "if len(archive_url_list) > 12:\n",
    "\tarchive_url_list = archive_url_list[1:12]\n",
    "\n",
    "f = open(linksfilename, 'a') \n",
    "\n",
    "for issue_link in archive_url_list:\n",
    "\tprint(issue_link)\n",
    "\tissue_url_list = get_links(issue_link, 'issue', journal)\n",
    "\tfor element in issue_url_list:\n",
    "\t\tf.write(element + \"\\n\")\n",
    "\n",
    "f.close()"
   ]
  }
 ],
 "metadata": {
  "kernelspec": {
   "display_name": "Python 3 (ipykernel)",
   "language": "python",
   "name": "python3"
  },
  "language_info": {
   "codemirror_mode": {
    "name": "ipython",
    "version": 3
   },
   "file_extension": ".py",
   "mimetype": "text/x-python",
   "name": "python",
   "nbconvert_exporter": "python",
   "pygments_lexer": "ipython3",
   "version": "3.9.13"
  }
 },
 "nbformat": 4,
 "nbformat_minor": 5
}
